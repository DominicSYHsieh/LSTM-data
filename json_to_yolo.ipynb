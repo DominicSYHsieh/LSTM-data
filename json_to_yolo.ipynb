{
 "cells": [
  {
   "cell_type": "code",
   "execution_count": 250,
   "metadata": {},
   "outputs": [],
   "source": [
    "import json\n",
    "from datetime import datetime \n",
    "from PIL import Image\n",
    "import matplotlib.pyplot as plt\n",
    "import matplotlib.patches as patches\n",
    "import os\n",
    "from os import listdir\n",
    "from os.path import isfile, join\n",
    "\n",
    "global log_list\n",
    "global log_print\n",
    "log_print = False\n",
    "log_list = []"
   ]
  },
  {
   "cell_type": "code",
   "execution_count": 251,
   "metadata": {},
   "outputs": [],
   "source": [
    "def logit(logstr):\n",
    "    global log_list\n",
    "    timestamp = '[' + datetime.now().strftime(\"%Y/%m/%d %H:%M:%S\") + ']'\n",
    "    logstr = timestamp + ' ' + logstr\n",
    "    log_list.append(logstr)\n",
    "    if log_print:\n",
    "        print(logstr)"
   ]
  },
  {
   "cell_type": "code",
   "execution_count": 252,
   "metadata": {},
   "outputs": [],
   "source": [
    "mask_class = {'face_with_mask':0,'face_no_mask':1,'face_with_mask_incorrect':2}\n",
    "root_path = 'C:\\\\Users\\\\jyliao\\\\AIA\\\\'\n",
    "output_path = root_path + 'output\\\\'\n",
    "anno_path = root_path + 'annotations\\\\'\n",
    "pic_path = root_path + 'images\\\\'\n",
    "\n",
    "path_list = [root_path,output_path,anno_path,pic_path]\n",
    "\n",
    "logit('Define root_path -> ' + root_path)\n",
    "logit('Define output_path -> ' + output_path)\n",
    "logit('Define anno_path -> ' + anno_path)\n",
    "logit('Define pic_path -> ' + pic_path)"
   ]
  },
  {
   "cell_type": "code",
   "execution_count": 253,
   "metadata": {},
   "outputs": [],
   "source": [
    "CHECK_FOLDER = os.path.isdir(output_path)\n",
    "if not CHECK_FOLDER:\n",
    "    os.makedirs(output_path)\n",
    "    logit(\"created folder : \" + output_path)\n",
    "else:\n",
    "    logit(output_path + \" folder already exists.\")"
   ]
  },
  {
   "cell_type": "code",
   "execution_count": 254,
   "metadata": {},
   "outputs": [],
   "source": [
    "folder_check = True\n",
    "\n",
    "for folder_path in path_list:\n",
    "    CHECK_FOLDER = os.path.isdir(folder_path)\n",
    "    if not CHECK_FOLDER:\n",
    "        logit(folder_path + ' missing !')\n",
    "        folder_check = False\n",
    "    else:\n",
    "        logit(folder_path + \" check ok!\")"
   ]
  },
  {
   "cell_type": "code",
   "execution_count": 255,
   "metadata": {},
   "outputs": [],
   "source": [
    "if folder_check:\n",
    "    logit('Start anno for each loop.')\n",
    "\n",
    "    anno_file_list = [f for f in listdir(anno_path) if isfile(join(anno_path, f))]\n",
    "    pic_file_list = [f for f in listdir(pic_path) if isfile(join(pic_path, f))]\n",
    "    logit('Anno files count :' + str(len(anno_file_list)))\n",
    "    logit('Pic files count :' + str(len(pic_file_list)))\n",
    "\n",
    "    success_count = 0\n",
    "    fail_count = 0\n",
    "\n",
    "    for anno in anno_file_list:\n",
    "        yolo_str_list = []\n",
    "        try:\n",
    "            with open(anno_path + anno, newline='') as jsonfile:\n",
    "                jsonStr = jsonfile\n",
    "                data = json.load(jsonfile)\n",
    "\n",
    "            if data['FileName'] in pic_file_list:\n",
    "                im = Image.open(pic_path + data['FileName'])\n",
    "                ori_width, ori_height = im.size\n",
    "                del im\n",
    "\n",
    "                for anno in data['Annotations']:                \n",
    "                    if anno['classname'] in list(mask_class.keys()):\n",
    "                        bbox = anno['BoundingBox']\n",
    "                        width = (bbox[2] - bbox[0])\n",
    "                        height = (bbox[3] - bbox[1])\n",
    "                        centerX = int((width/2) + bbox[0])\n",
    "                        centerY = int((height/2) + bbox[1])\n",
    "\n",
    "                        yolo_cx,yolo_cy,yolo_w,yolo_h = centerX/ori_width,centerY/ori_height,width/ori_width,height/ori_height\n",
    "                        yolo_label=[mask_class[anno['classname']],yolo_cx,yolo_cy,yolo_w,yolo_h]\n",
    "                        yolo_label = [str(x) for x in yolo_label]\n",
    "                        yolo_label_str = ' '.join(yolo_label)\n",
    "                        yolo_str_list.append(yolo_label_str)\n",
    "\n",
    "                output_file_name = output_path + data['FileName'] + '.txt'\n",
    "                with open(output_file_name ,'w') as f:\n",
    "                    f.write('\\r\\n'.join(yolo_str_list))\n",
    "                    logit('Output file : ' + output_file_name)\n",
    "                success_count += 1\n",
    "            else:\n",
    "                fail_count += 1\n",
    "                logit('Pic not exist : ' + data['FileName'])\n",
    "        except:\n",
    "            logit('Read anno err : ' + anno)\n",
    "    logit('End anno for each loop. Success : ' + str(success_count) + ' , Fail : ' + str(fail_count)  )"
   ]
  },
  {
   "cell_type": "code",
   "execution_count": 256,
   "metadata": {},
   "outputs": [],
   "source": [
    "with open(output_path + 'log.txt' ,'w') as f:\n",
    "    f.write('\\r\\n'.join(log_list))"
   ]
  },
  {
   "cell_type": "code",
   "execution_count": null,
   "metadata": {},
   "outputs": [],
   "source": []
  },
  {
   "cell_type": "code",
   "execution_count": null,
   "metadata": {},
   "outputs": [],
   "source": []
  }
 ],
 "metadata": {
  "kernelspec": {
   "display_name": "Python 3",
   "language": "python",
   "name": "python3"
  },
  "language_info": {
   "codemirror_mode": {
    "name": "ipython",
    "version": 3
   },
   "file_extension": ".py",
   "mimetype": "text/x-python",
   "name": "python",
   "nbconvert_exporter": "python",
   "pygments_lexer": "ipython3",
   "version": "3.7.6"
  }
 },
 "nbformat": 4,
 "nbformat_minor": 4
}
